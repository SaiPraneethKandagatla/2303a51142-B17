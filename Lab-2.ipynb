{
  "cells": [
    {
      "cell_type": "markdown",
      "metadata": {
        "id": "view-in-github",
        "colab_type": "text"
      },
      "source": [
        "<a href=\"https://colab.research.google.com/github/SaiPraneethKandagatla/2303a51142-B17/blob/main/Lab-2.ipynb\" target=\"_parent\"><img src=\"https://colab.research.google.com/assets/colab-badge.svg\" alt=\"Open In Colab\"/></a>"
      ]
    },
    {
      "cell_type": "code",
      "source": [
        "import numpy as np\n",
        "marks = np.array([\n",
        "    [85, 78, 92],\n",
        "    [76, 88, 80],\n",
        "    [90, 94, 89],\n",
        "    [65, 70, 72],\n",
        "    [88, 82, 95]\n",
        "])\n",
        "\n",
        "print(\"Student Marks:\")\n",
        "print(marks)\n",
        "\n",
        "#Average, Min, Max marks\n",
        "print(\"Average marks of each student:\", np.mean(marks, axis=1))\n",
        "print(\"Minimum marks of each student:\", np.min(marks, axis=1))\n",
        "print(\"Maximum marks of each student:\", np.max(marks, axis=1))\n",
        "print(\"Average marks in each subject:\", np.mean(marks, axis=0))\n",
        "print(\"Minimum marks in each subject:\", np.min(marks, axis=0))\n",
        "print(\"Maximum marks in each subject:\", np.max(marks, axis=0))\n",
        "\n",
        "#Marks of 2nd student\n",
        "print(\"Marks of Student 2:\", marks[1, :])\n",
        "\n",
        "#Students scoring above 80 in any subject\n",
        "print(\"Students scoring above 80 in any subject:\")\n",
        "print(marks[marks > 80])\n",
        "print(\"Analysis:\")\n",
        "print(\"1. Student 3 performed best overall with high marks in all subjects.\")\n",
        "print(\"2. Student 4 needs improvement as scores are the lowest across subjec.\")\n",
        "print(\"3. Subject 3 shows consistently high performance among students.\")\n"
      ],
      "metadata": {
        "id": "WC99pU4Oiy3Y",
        "outputId": "58d0743b-3dbc-4ecf-e615-2eac05e43b38",
        "colab": {
          "base_uri": "https://localhost:8080/"
        }
      },
      "execution_count": 4,
      "outputs": [
        {
          "output_type": "stream",
          "name": "stdout",
          "text": [
            "Student Marks:\n",
            "[[85 78 92]\n",
            " [76 88 80]\n",
            " [90 94 89]\n",
            " [65 70 72]\n",
            " [88 82 95]]\n",
            "Average marks of each student: [85.         81.33333333 91.         69.         88.33333333]\n",
            "Minimum marks of each student: [78 76 89 65 82]\n",
            "Maximum marks of each student: [92 88 94 72 95]\n",
            "Average marks in each subject: [80.8 82.4 85.6]\n",
            "Minimum marks in each subject: [65 70 72]\n",
            "Maximum marks in each subject: [90 94 95]\n",
            "Marks of Student 2: [76 88 80]\n",
            "Students scoring above 80 in any subject:\n",
            "[85 92 88 90 94 89 88 82 95]\n",
            "Analysis:\n",
            "1. Student 3 performed best overall with high marks in all subjects.\n",
            "2. Student 4 needs improvement as scores are the lowest across subjec.\n",
            "3. Subject 3 shows consistently high performance among students.\n"
          ]
        }
      ]
    },
    {
      "cell_type": "code",
      "source": [
        "import pandas as pd\n",
        "data = {\n",
        "    \"ID\": [101, 102, 103, 104, 105],\n",
        "    \"Name\": [\"Alice\", \"Bob\", \"Charlie\", \"David\", \"Eva\"],\n",
        "    \"Department\": [\"HR\", \"IT\", \"Finance\", \"IT\", \"HR\"],\n",
        "    \"Salary\": [48000, 60000, 55000, 45000, 70000]\n",
        "}\n",
        "\n",
        "df = pd.DataFrame(data)\n",
        "print(\"Original Employee DataFrame:\\n\", df)\n",
        "\n",
        "# employees with salary > 50,000\n",
        "high_salary = df[df[\"Salary\"] > 50000]\n",
        "print(\"\\nEmployees with Salary > 50,000:\\n\", high_salary)\n",
        "\n",
        "#salary in descending order\n",
        "sorted_df = df.sort_values(by=\"Salary\", ascending=False)\n",
        "print(\"\\nEmployees Sorted by Salary (Descending):\\n\", sorted_df)\n",
        "\n",
        "#Bonus (10% of salary)\n",
        "df[\"Bonus\"] = df[\"Salary\"] * 0.10\n",
        "print(\"\\nDataFrame with Bonus Column:\\n\", df)\n",
        "\n",
        "#Calculate total salary expense including bonus\n",
        "df[\"TotalPay\"] = df[\"Salary\"] + df[\"Bonus\"]\n",
        "total_expense = df[\"TotalPay\"].sum()\n",
        "print(\"\\nTotal Salary Expense (with Bonus):\", total_expense)\n"
      ],
      "metadata": {
        "id": "KI0CB04skY9n",
        "outputId": "9a450d4e-0f10-4535-8132-007103ebb037",
        "colab": {
          "base_uri": "https://localhost:8080/"
        }
      },
      "execution_count": 6,
      "outputs": [
        {
          "output_type": "stream",
          "name": "stdout",
          "text": [
            "Original Employee DataFrame:\n",
            "     ID     Name Department  Salary\n",
            "0  101    Alice         HR   48000\n",
            "1  102      Bob         IT   60000\n",
            "2  103  Charlie    Finance   55000\n",
            "3  104    David         IT   45000\n",
            "4  105      Eva         HR   70000\n",
            "\n",
            "Employees with Salary > 50,000:\n",
            "     ID     Name Department  Salary\n",
            "1  102      Bob         IT   60000\n",
            "2  103  Charlie    Finance   55000\n",
            "4  105      Eva         HR   70000\n",
            "\n",
            "Employees Sorted by Salary (Descending):\n",
            "     ID     Name Department  Salary\n",
            "4  105      Eva         HR   70000\n",
            "1  102      Bob         IT   60000\n",
            "2  103  Charlie    Finance   55000\n",
            "0  101    Alice         HR   48000\n",
            "3  104    David         IT   45000\n",
            "\n",
            "DataFrame with Bonus Column:\n",
            "     ID     Name Department  Salary   Bonus\n",
            "0  101    Alice         HR   48000  4800.0\n",
            "1  102      Bob         IT   60000  6000.0\n",
            "2  103  Charlie    Finance   55000  5500.0\n",
            "3  104    David         IT   45000  4500.0\n",
            "4  105      Eva         HR   70000  7000.0\n",
            "\n",
            "Total Salary Expense (with Bonus): 305800.0\n"
          ]
        }
      ]
    }
  ],
  "metadata": {
    "colab": {
      "name": "Welcome to Colab",
      "toc_visible": true,
      "provenance": [],
      "include_colab_link": true
    },
    "kernelspec": {
      "display_name": "Python 3",
      "name": "python3"
    }
  },
  "nbformat": 4,
  "nbformat_minor": 0
}