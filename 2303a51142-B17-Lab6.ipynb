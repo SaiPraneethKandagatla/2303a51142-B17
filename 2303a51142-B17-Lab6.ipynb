{
  "cells": [
    {
      "cell_type": "markdown",
      "metadata": {
        "id": "view-in-github",
        "colab_type": "text"
      },
      "source": [
        "<a href=\"https://colab.research.google.com/github/SaiPraneethKandagatla/2303a51142-B17/blob/main/2303a51142-B17-Lab6.ipynb\" target=\"_parent\"><img src=\"https://colab.research.google.com/assets/colab-badge.svg\" alt=\"Open In Colab\"/></a>"
      ]
    },
    {
      "cell_type": "code",
      "source": [
        "import pandas as pd\n",
        "import seaborn as sns\n",
        "df = sns.load_dataset(\"titanic\")\n",
        "\n",
        "print(\" First 5 rows of dataset:\")\n",
        "print(df.head())\n",
        "\n",
        "print(\"\\n Missing Values Before Cleaning:\")\n",
        "print(df.isnull().sum())\n",
        "\n",
        "df['age'] = df['age'].fillna(df['age'].mean())\n",
        "\n",
        "df['embarked'] = df['embarked'].fillna(df['embarked'].mode()[0])\n",
        "\n",
        "df = df.drop(columns=['deck'])\n",
        "\n",
        "print(\"\\n Missing Values After Cleaning:\")\n",
        "print(df.isnull().sum())\n",
        "df.to_csv(\"titanic_cleaned.csv\", index=False)\n",
        "print(\"\\n Cleaned dataset saved as 'titanic_cleaned.csv'\")\n"
      ],
      "metadata": {
        "id": "kyU2W1bMqFIo",
        "outputId": "29493aca-116c-426d-a9fe-8399cbfb3dcc",
        "colab": {
          "base_uri": "https://localhost:8080/"
        }
      },
      "execution_count": 25,
      "outputs": [
        {
          "output_type": "stream",
          "name": "stdout",
          "text": [
            " First 5 rows of dataset:\n",
            "   survived  pclass     sex   age  sibsp  parch     fare embarked  class  \\\n",
            "0         0       3    male  22.0      1      0   7.2500        S  Third   \n",
            "1         1       1  female  38.0      1      0  71.2833        C  First   \n",
            "2         1       3  female  26.0      0      0   7.9250        S  Third   \n",
            "3         1       1  female  35.0      1      0  53.1000        S  First   \n",
            "4         0       3    male  35.0      0      0   8.0500        S  Third   \n",
            "\n",
            "     who  adult_male deck  embark_town alive  alone  \n",
            "0    man        True  NaN  Southampton    no  False  \n",
            "1  woman       False    C    Cherbourg   yes  False  \n",
            "2  woman       False  NaN  Southampton   yes   True  \n",
            "3  woman       False    C  Southampton   yes  False  \n",
            "4    man        True  NaN  Southampton    no   True  \n",
            "\n",
            " Missing Values Before Cleaning:\n",
            "survived         0\n",
            "pclass           0\n",
            "sex              0\n",
            "age            177\n",
            "sibsp            0\n",
            "parch            0\n",
            "fare             0\n",
            "embarked         2\n",
            "class            0\n",
            "who              0\n",
            "adult_male       0\n",
            "deck           688\n",
            "embark_town      2\n",
            "alive            0\n",
            "alone            0\n",
            "dtype: int64\n",
            "\n",
            " Missing Values After Cleaning:\n",
            "survived       0\n",
            "pclass         0\n",
            "sex            0\n",
            "age            0\n",
            "sibsp          0\n",
            "parch          0\n",
            "fare           0\n",
            "embarked       0\n",
            "class          0\n",
            "who            0\n",
            "adult_male     0\n",
            "embark_town    2\n",
            "alive          0\n",
            "alone          0\n",
            "dtype: int64\n",
            "\n",
            " Cleaned dataset saved as 'titanic_cleaned.csv'\n"
          ]
        }
      ]
    },
    {
      "cell_type": "code",
      "source": [
        "import pandas as pd\n",
        "data = {\n",
        "    \"Name\": [\"Sai\", \"Rohith\", \"Rahul\", \"Priya\", \"Shiva\", \"Sneha\"],\n",
        "    \"Gender\": [\"M\", \"Male\", \"male\", \"F\", \"Female\", \"female\"],\n",
        "    \"Age\": [25, 20, 21, 23, 22, 21]\n",
        "}\n",
        "\n",
        "df = pd.DataFrame(data)\n",
        "\n",
        "print(\"Original Dataset:\")\n",
        "print(df)\n",
        "\n",
        "df['Gender'] = df['Gender'].str.lower()\n",
        "\n",
        "gender_mapping = {\n",
        "    \"m\": \"Male\",\n",
        "    \"male\": \"Male\",\n",
        "    \"f\": \"Female\",\n",
        "    \"female\": \"Female\"\n",
        "}\n",
        "\n",
        "df['Gender'] = df['Gender'].map(gender_mapping)\n",
        "\n",
        "print(\"\\n Cleaned Dataset with Standardized Gender:\")\n",
        "print(df)\n",
        "\n",
        "print(\"\\n Unique Gender Categories After Cleaning:\")\n",
        "print(df['Gender'].unique())"
      ],
      "metadata": {
        "id": "Hlw0xBSeqVZN",
        "outputId": "7c864a01-d314-4878-c11f-264e4fa193a4",
        "colab": {
          "base_uri": "https://localhost:8080/"
        }
      },
      "execution_count": 27,
      "outputs": [
        {
          "output_type": "stream",
          "name": "stdout",
          "text": [
            "Original Dataset:\n",
            "     Name  Gender  Age\n",
            "0     Sai       M   25\n",
            "1  Rohith    Male   20\n",
            "2   Rahul    male   21\n",
            "3   Priya       F   23\n",
            "4   Shiva  Female   22\n",
            "5   Sneha  female   21\n",
            "\n",
            " Cleaned Dataset with Standardized Gender:\n",
            "     Name  Gender  Age\n",
            "0     Sai    Male   25\n",
            "1  Rohith    Male   20\n",
            "2   Rahul    Male   21\n",
            "3   Priya  Female   23\n",
            "4   Shiva  Female   22\n",
            "5   Sneha  Female   21\n",
            "\n",
            " Unique Gender Categories After Cleaning:\n",
            "['Male' 'Female']\n"
          ]
        }
      ]
    }
  ],
  "metadata": {
    "colab": {
      "name": "Welcome to Colab",
      "toc_visible": true,
      "provenance": [],
      "include_colab_link": true
    },
    "kernelspec": {
      "display_name": "Python 3",
      "name": "python3"
    }
  },
  "nbformat": 4,
  "nbformat_minor": 0
}