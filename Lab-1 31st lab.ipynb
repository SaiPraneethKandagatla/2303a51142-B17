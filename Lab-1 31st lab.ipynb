{
  "cells": [
    {
      "cell_type": "markdown",
      "metadata": {
        "id": "view-in-github",
        "colab_type": "text"
      },
      "source": [
        "<a href=\"https://colab.research.google.com/github/SaiPraneethKandagatla/2303a51142-B17/blob/main/Lab-1%2031st%20lab.ipynb\" target=\"_parent\"><img src=\"https://colab.research.google.com/assets/colab-badge.svg\" alt=\"Open In Colab\"/></a>"
      ]
    },
    {
      "cell_type": "code",
      "source": [
        "def factorial(n):\n",
        "  if n==0 or n==1:\n",
        "    return 1\n",
        "  else:\n",
        "    return n*factorial(n-1)\n",
        "num=int(input(\"Enter a number:\"))\n",
        "if num<0:\n",
        "  print(\"Factorial is not defined for negative numbers\")\n",
        "else:\n",
        "  result=factorial(num)\n",
        "  print(f\"The factorial of {num} is {result}\")"
      ],
      "metadata": {
        "id": "9rOURDIn-qfm",
        "outputId": "f319a38d-243d-4a3f-f6ab-dc7869c641f4",
        "colab": {
          "base_uri": "https://localhost:8080/"
        }
      },
      "execution_count": 8,
      "outputs": [
        {
          "output_type": "stream",
          "name": "stdout",
          "text": [
            "Enter a number:4\n",
            "The factorial of 4 is 24\n"
          ]
        }
      ]
    },
    {
      "cell_type": "code",
      "source": [
        "def factorial(n):\n",
        "    if n == 0 or n == 1:\n",
        "        return 1\n",
        "    else:\n",
        "      return n * factorial(n - 1)\n",
        "def nCr(n, r):\n",
        "    return factorial(n) // (factorial(r) * factorial(n - r))\n",
        "n = int(input(\"Enter n: \"))\n",
        "r = int(input(\"Enter r: \"))\n",
        "if n >= r >= 0:\n",
        "  print(\"{}C{} = {}\".format(n, r, nCr(n, r)))\n",
        "else:\n",
        "    print(\"Invalid input\")\n"
      ],
      "metadata": {
        "id": "6mqUkaKeDYKV",
        "outputId": "f9a47f9c-9c08-4c76-dd8d-402dcfae974c",
        "colab": {
          "base_uri": "https://localhost:8080/"
        }
      },
      "execution_count": 16,
      "outputs": [
        {
          "output_type": "stream",
          "name": "stdout",
          "text": [
            "Enter n: 4\n",
            "Enter r: 2\n",
            "4C2 = 6\n"
          ]
        }
      ]
    }
  ],
  "metadata": {
    "colab": {
      "name": "Welcome To Colab",
      "toc_visible": true,
      "provenance": [],
      "include_colab_link": true
    },
    "kernelspec": {
      "display_name": "Python 3",
      "name": "python3"
    }
  },
  "nbformat": 4,
  "nbformat_minor": 0
}