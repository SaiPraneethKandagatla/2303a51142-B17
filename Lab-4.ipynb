{
  "cells": [
    {
      "cell_type": "markdown",
      "metadata": {
        "id": "view-in-github",
        "colab_type": "text"
      },
      "source": [
        "<a href=\"https://colab.research.google.com/github/SaiPraneethKandagatla/2303a51142-B17/blob/main/Lab-4.ipynb\" target=\"_parent\"><img src=\"https://colab.research.google.com/assets/colab-badge.svg\" alt=\"Open In Colab\"/></a>"
      ]
    },
    {
      "cell_type": "code",
      "source": [
        "import pandas as pd\n",
        "df = pd.read_csv(\"student_scores.csv\")\n",
        "print(\"Original Dataset\")\n",
        "print(df, \"\\n\")\n",
        "df = df.fillna({\n",
        " \"Math\": df[\"Math\"].mean(),\n",
        " \"Science\": df[\"Science\"].mean(),\n",
        " \"English\": df[\"English\"].mean()\n",
        " })\n",
        "print(\"Dataset after Filling Missing Marks\")\n",
        "print(df, \"\\n\")\n",
        "high_achievers = df[\n",
        "    (df[\"Math\"] > 75) &\n",
        "    (df[\"Science\"] > 75) &\n",
        "    (df[\"English\"] > 75)\n",
        " ]\n",
        "print(\"High Achievers (Scored > 75 in all subjects)\")\n",
        "print(high_achievers)"
      ],
      "metadata": {
        "id": "qW3Wg4LMN5aI",
        "outputId": "e166b433-0069-4e99-9eb2-2886ef91e789",
        "colab": {
          "base_uri": "https://localhost:8080/"
        }
      },
      "execution_count": 3,
      "outputs": [
        {
          "output_type": "stream",
          "name": "stdout",
          "text": [
            "Original Dataset\n",
            "   Student_ID     Name  Math  Science  English\n",
            "0           1    Alice  88.0     92.0     85.0\n",
            "1           2      Bob  76.0      NaN     79.0\n",
            "2           3  Charlie   NaN     81.0     90.0\n",
            "3           4    David  95.0     89.0      NaN\n",
            "4           5      Eva  67.0     74.0     72.0 \n",
            "\n",
            "Dataset after Filling Missing Marks\n",
            "   Student_ID     Name  Math  Science  English\n",
            "0           1    Alice  88.0     92.0     85.0\n",
            "1           2      Bob  76.0     84.0     79.0\n",
            "2           3  Charlie  81.5     81.0     90.0\n",
            "3           4    David  95.0     89.0     81.5\n",
            "4           5      Eva  67.0     74.0     72.0 \n",
            "\n",
            "High Achievers (Scored > 75 in all subjects)\n",
            "   Student_ID     Name  Math  Science  English\n",
            "0           1    Alice  88.0     92.0     85.0\n",
            "1           2      Bob  76.0     84.0     79.0\n",
            "2           3  Charlie  81.5     81.0     90.0\n",
            "3           4    David  95.0     89.0     81.5\n"
          ]
        }
      ]
    },
    {
      "cell_type": "code",
      "source": [
        "import pandas as pd\n",
        "patients = pd.read_csv(\"patients.csv\")\n",
        "print(\"Original Dataset\")\n",
        "print(patients, \"\\n\")\n",
        "patients[\"Age\"] = patients[\"Age\"].fillna(patients[\"Age\"].median())\n",
        "print(\"Dataset after Filling Missing Age with Median\")\n",
        "print(patients, \"\\n\")\n",
        "elderly_diabetic_females = patients[\n",
        "    (patients[\"Gender\"].str.lower() == \"female\") &\n",
        "    (patients[\"Age\"] > 50) &\n",
        "    (patients[\"Diagnosis\"].str.lower() == \"diabetes\")\n",
        " ]\n",
        "print(\"Elderly Female Patients with Diabetes\")\n",
        "print(elderly_diabetic_females)"
      ],
      "metadata": {
        "id": "lnCk2fFnOa0d",
        "outputId": "597b721c-db25-4057-bb55-f2e3974408cd",
        "colab": {
          "base_uri": "https://localhost:8080/"
        }
      },
      "execution_count": 4,
      "outputs": [
        {
          "output_type": "stream",
          "name": "stdout",
          "text": [
            "Original Dataset\n",
            "   Patient_ID    Name   Age  Gender Diagnosis Admission_Date\n",
            "0         101   Anita  65.0  Female  Diabetes     2025-01-10\n",
            "1         102  Ramesh  45.0    Male       Flu     2025-02-15\n",
            "2         103    Sita   NaN  Female  Diabetes     2025-03-01\n",
            "3         104   Mohan  72.0    Male    Cancer     2025-03-05\n",
            "4         105    Lata  55.0  Female  Diabetes     2025-04-01\n",
            "5         106   Geeta   NaN  Female  Diabetes     2025-04-20 \n",
            "\n",
            "Dataset after Filling Missing Age with Median\n",
            "   Patient_ID    Name   Age  Gender Diagnosis Admission_Date\n",
            "0         101   Anita  65.0  Female  Diabetes     2025-01-10\n",
            "1         102  Ramesh  45.0    Male       Flu     2025-02-15\n",
            "2         103    Sita  60.0  Female  Diabetes     2025-03-01\n",
            "3         104   Mohan  72.0    Male    Cancer     2025-03-05\n",
            "4         105    Lata  55.0  Female  Diabetes     2025-04-01\n",
            "5         106   Geeta  60.0  Female  Diabetes     2025-04-20 \n",
            "\n",
            "Elderly Female Patients with Diabetes\n",
            "   Patient_ID   Name   Age  Gender Diagnosis Admission_Date\n",
            "0         101  Anita  65.0  Female  Diabetes     2025-01-10\n",
            "2         103   Sita  60.0  Female  Diabetes     2025-03-01\n",
            "4         105   Lata  55.0  Female  Diabetes     2025-04-01\n",
            "5         106  Geeta  60.0  Female  Diabetes     2025-04-20\n"
          ]
        }
      ]
    }
  ],
  "metadata": {
    "colab": {
      "name": "Welcome to Colab",
      "provenance": [],
      "include_colab_link": true
    },
    "kernelspec": {
      "display_name": "Python 3",
      "name": "python3"
    }
  },
  "nbformat": 4,
  "nbformat_minor": 0
}