{
  "cells": [
    {
      "cell_type": "markdown",
      "metadata": {
        "id": "view-in-github",
        "colab_type": "text"
      },
      "source": [
        "<a href=\"https://colab.research.google.com/github/SaiPraneethKandagatla/2303a51142-B17/blob/main/Lab-3.ipynb\" target=\"_parent\"><img src=\"https://colab.research.google.com/assets/colab-badge.svg\" alt=\"Open In Colab\"/></a>"
      ]
    },
    {
      "cell_type": "code",
      "source": [
        "import numpy as np\n",
        "A = np.array([[1, 2, 3],\n",
        "              [4, 5, 6],\n",
        "              [7, 8, 9]])\n",
        "\n",
        "B = np.array([[9, 8, 7],\n",
        "              [6, 5, 4],\n",
        "              [3, 2, 1]])\n",
        "print(\"Matrix A:\\n\", A)\n",
        "print(\"Matrix B:\\n\", B)\n",
        "print(\"A + B:\\n\", np.add(A, B))\n",
        "print(\"A - B:\\n\", np.subtract(A, B))\n"
      ],
      "metadata": {
        "id": "rZo4Sj_7nndx",
        "outputId": "73c74b6e-3e49-49ba-ccfb-6d4c8d80cf0b",
        "colab": {
          "base_uri": "https://localhost:8080/",
          "height": 0
        }
      },
      "execution_count": 11,
      "outputs": [
        {
          "output_type": "stream",
          "name": "stdout",
          "text": [
            "Matrix A:\n",
            " [[1 2 3]\n",
            " [4 5 6]\n",
            " [7 8 9]]\n",
            "Matrix B:\n",
            " [[9 8 7]\n",
            " [6 5 4]\n",
            " [3 2 1]]\n",
            "A + B:\n",
            " [[10 10 10]\n",
            " [10 10 10]\n",
            " [10 10 10]]\n",
            "A - B:\n",
            " [[-8 -6 -4]\n",
            " [-2  0  2]\n",
            " [ 4  6  8]]\n"
          ]
        }
      ]
    },
    {
      "cell_type": "code",
      "source": [
        "import numpy as np\n",
        "A = np.array([[1, 2],\n",
        "              [3, 4],\n",
        "              [5, 6]])\n",
        "\n",
        "B = np.array([[7, 8, 9],\n",
        "              [10, 11, 12]])\n",
        "\n",
        "print(\"Matrix A (3x2):\\n\", A)\n",
        "print(\"Matrix B (2x3):\\n\", B)\n",
        "C = np.dot(A, B)\n",
        "print(\"Result of A x B (3x3):\\n\", C)"
      ],
      "metadata": {
        "id": "dQT0w-D3oD4t",
        "outputId": "829efa96-81ad-4bb6-8821-eba1b1d83578",
        "colab": {
          "base_uri": "https://localhost:8080/",
          "height": 0
        }
      },
      "execution_count": 9,
      "outputs": [
        {
          "output_type": "stream",
          "name": "stdout",
          "text": [
            "Matrix A (3x2):\n",
            " [[1 2]\n",
            " [3 4]\n",
            " [5 6]]\n",
            "Matrix B (2x3):\n",
            " [[ 7  8  9]\n",
            " [10 11 12]]\n",
            "Result of A x B (3x3):\n",
            " [[ 27  30  33]\n",
            " [ 61  68  75]\n",
            " [ 95 106 117]]\n"
          ]
        }
      ]
    }
  ],
  "metadata": {
    "colab": {
      "name": "Welcome to Colab",
      "toc_visible": true,
      "provenance": [],
      "include_colab_link": true
    },
    "kernelspec": {
      "display_name": "Python 3",
      "name": "python3"
    }
  },
  "nbformat": 4,
  "nbformat_minor": 0
}