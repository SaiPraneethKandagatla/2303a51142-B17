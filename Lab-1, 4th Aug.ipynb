{
  "cells": [
    {
      "cell_type": "markdown",
      "metadata": {
        "id": "view-in-github",
        "colab_type": "text"
      },
      "source": [
        "<a href=\"https://colab.research.google.com/github/SaiPraneethKandagatla/2303a51142-B17/blob/main/Lab-1%2C%204th%20Aug.ipynb\" target=\"_parent\"><img src=\"https://colab.research.google.com/assets/colab-badge.svg\" alt=\"Open In Colab\"/></a>"
      ]
    },
    {
      "cell_type": "code",
      "source": [
        "def factorial(n):\n",
        "    if n == 0 or n == 1:\n",
        "        return 1\n",
        "    else:\n",
        "        return n * factorial(n-1)\n",
        "n = int(input(\"Enter n value: \"))\n",
        "r = int(input(\"Enter r value: \"))\n",
        "if n < r or n < 0 or r < 0:\n",
        "    print(\"Invalid input\")\n",
        "else:\n",
        "    nPr = factorial(n) // factorial(n - r)\n",
        "    print(f\"{n}P{r} = {nPr}\")\n"
      ],
      "metadata": {
        "id": "4Yltmv_Ci8QN",
        "outputId": "634ff7e7-6264-468e-92a7-e5f6556523ff",
        "colab": {
          "base_uri": "https://localhost:8080/"
        }
      },
      "execution_count": 9,
      "outputs": [
        {
          "output_type": "stream",
          "name": "stdout",
          "text": [
            "Enter n value: 6\n",
            "Enter r value: 4\n",
            "6P4 = 360\n"
          ]
        }
      ]
    },
    {
      "cell_type": "code",
      "source": [
        "def factorial(n):\n",
        "    if n == 0 or n == 1:\n",
        "        return 1\n",
        "    else:\n",
        "        return n * factorial(n - 1)\n",
        "def iterative_factorial(n):\n",
        "    result = 1\n",
        "    for i in range(2, n + 1):\n",
        "        result *= i\n",
        "    return result\n",
        "n = int(input(\"Enter a number: \"))\n",
        "if n > 998:\n",
        "    print(\"Invalid input\")\n",
        "rec_result = factorial(n)\n",
        "iter_result = iterative_factorial(n)\n",
        "print(f\"Recursive factorial({n}): {str(rec_result)[:60]}\")\n",
        "print(f\"Iterative factorial({n}): {str(iter_result)[:60]}\")\n",
        "if rec_result == iter_result:\n",
        "    print(\"Both methods give the same result.\")\n",
        "else:\n",
        "    print(\"Results differ, possibly due to recursion limit.\")\n"
      ],
      "metadata": {
        "id": "B6Lg8WZvkf71",
        "outputId": "2f329988-026e-4a54-9e82-10d243b1b37a",
        "colab": {
          "base_uri": "https://localhost:8080/"
        }
      },
      "execution_count": 15,
      "outputs": [
        {
          "output_type": "stream",
          "name": "stdout",
          "text": [
            "Enter a number: 4\n",
            "Recursive factorial(4): 24\n",
            "Iterative factorial(4): 24\n",
            "Both methods give the same result.\n"
          ]
        }
      ]
    }
  ],
  "metadata": {
    "colab": {
      "name": "Welcome to Colab",
      "toc_visible": true,
      "provenance": [],
      "include_colab_link": true
    },
    "kernelspec": {
      "display_name": "Python 3",
      "name": "python3"
    }
  },
  "nbformat": 4,
  "nbformat_minor": 0
}