{
  "cells": [
    {
      "cell_type": "markdown",
      "metadata": {
        "id": "view-in-github",
        "colab_type": "text"
      },
      "source": [
        "<a href=\"https://colab.research.google.com/github/SaiPraneethKandagatla/2303a51142-B17/blob/main/LAB-1%20and%201st%20aug.ipynb\" target=\"_parent\"><img src=\"https://colab.research.google.com/assets/colab-badge.svg\" alt=\"Open In Colab\"/></a>"
      ]
    },
    {
      "cell_type": "code",
      "source": [
        "def factorial(n):\n",
        "  if n==0 or n==1:\n",
        "    return 1\n",
        "  else:\n",
        "    return n*factorial(n-1)\n",
        "num=int(input(\"Enter a number:\"))\n",
        "if num<0:\n",
        "  print(\"Factorial is not defined for negative numbers\")\n",
        "else:\n",
        "  result=factorial(num)\n",
        "  print(f\"The factorial of {num} is {result}\")"
      ],
      "metadata": {
        "colab": {
          "base_uri": "https://localhost:8080/"
        },
        "id": "9rOURDIn-qfm",
        "outputId": "f319a38d-243d-4a3f-f6ab-dc7869c641f4"
      },
      "execution_count": 8,
      "outputs": [
        {
          "output_type": "stream",
          "name": "stdout",
          "text": [
            "Enter a number:4\n",
            "The factorial of 4 is 24\n"
          ]
        }
      ]
    },
    {
      "cell_type": "code",
      "source": [
        "def factorial(n):\n",
        "    if n == 0 or n == 1:\n",
        "        return 1\n",
        "    else:\n",
        "      return n * factorial(n - 1)\n",
        "def nCr(n, r):\n",
        "    return factorial(n) // (factorial(r) * factorial(n - r))\n",
        "n = int(input(\"Enter n: \"))\n",
        "r = int(input(\"Enter r: \"))\n",
        "if n >= r >= 0:\n",
        "   print(f\"{n}C{r} = {nCr(n, r)}\")\n",
        "else:\n",
        "    print(\"Invalid input\")\n"
      ],
      "metadata": {
        "colab": {
          "base_uri": "https://localhost:8080/"
        },
        "id": "6mqUkaKeDYKV",
        "outputId": "75396bfc-d510-4c71-c60b-713193c05ae9"
      },
      "execution_count": 19,
      "outputs": [
        {
          "output_type": "stream",
          "name": "stdout",
          "text": [
            "Enter n: 4\n",
            "Enter r: 2\n",
            "4C2 = 6\n"
          ]
        }
      ]
    },
    {
      "cell_type": "code",
      "source": [
        "def factorial(n):\n",
        "    print(f\"factorial({n}) called\")\n",
        "    if n == 0 or n == 1:\n",
        "        print(f\"Returning 1 (base case for factorial({n}))\")\n",
        "        return 1\n",
        "    result = n * factorial(n - 1)\n",
        "    print(f\"Returning {result} (from {n} * factorial({n - 1}))\")\n",
        "    return result\n",
        "num = int(input(\"Enter a number: \"))\n",
        "if 0 <= num <= 10:\n",
        "    print(\"Starting factorial calculation...\")\n",
        "    result = factorial(num)\n",
        "    print(f\"\\nFinal result: factorial({num}) = {result}\")\n",
        "else:\n",
        "    print(\"Invalid input\")"
      ],
      "metadata": {
        "id": "iy-g8N3IIRbE",
        "outputId": "6175f57a-963b-4ce1-9f44-9f6215064f68",
        "colab": {
          "base_uri": "https://localhost:8080/"
        }
      },
      "execution_count": 25,
      "outputs": [
        {
          "output_type": "stream",
          "name": "stdout",
          "text": [
            "Enter a number: 4\n",
            "Starting factorial calculation...\n",
            "factorial(4) called\n",
            "factorial(3) called\n",
            "factorial(2) called\n",
            "factorial(1) called\n",
            "Returning 1 (base case for factorial(1))\n",
            "Returning 2 (from 2 * factorial(1))\n",
            "Returning 6 (from 3 * factorial(2))\n",
            "Returning 24 (from 4 * factorial(3))\n",
            "\n",
            "Final result: factorial(4) = 24\n"
          ]
        }
      ]
    }
  ],
  "metadata": {
    "colab": {
      "name": "Welcome To Colab",
      "toc_visible": true,
      "provenance": [],
      "include_colab_link": true
    },
    "kernelspec": {
      "display_name": "Python 3",
      "name": "python3"
    }
  },
  "nbformat": 4,
  "nbformat_minor": 0
}