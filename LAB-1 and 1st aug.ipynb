{
  "cells": [
    {
      "cell_type": "markdown",
      "metadata": {
        "id": "view-in-github",
        "colab_type": "text"
      },
      "source": [
        "<a href=\"https://colab.research.google.com/github/SaiPraneethKandagatla/2303a51142-B17/blob/main/LAB-1%20and%201st%20aug.ipynb\" target=\"_parent\"><img src=\"https://colab.research.google.com/assets/colab-badge.svg\" alt=\"Open In Colab\"/></a>"
      ]
    },
    {
      "cell_type": "code",
      "source": [
        "def factorial(n):\n",
        "    print(f\"factorial({n}) called\")\n",
        "    if n == 0 or n == 1:\n",
        "        print(f\"Returning {n}\")\n",
        "        return 1\n",
        "    result = n * factorial(n - 1)\n",
        "    print(f\"Returning {result} (from {n} * factorial({n - 1}))\")\n",
        "    return result\n",
        "num = int(input(\"Enter a number: \"))\n",
        "if 0 <= num <= 10:\n",
        "\n",
        "    result = factorial(num)\n",
        "    print(f\"\\nFinal result: factorial({num}) = {result}\")\n",
        "else:\n",
        "    print(\"Invalid input\")"
      ],
      "metadata": {
        "id": "1DgX6nuEhI18",
        "outputId": "ea563cc0-13ef-44f9-81c7-cc8a195395e8",
        "colab": {
          "base_uri": "https://localhost:8080/"
        }
      },
      "execution_count": 5,
      "outputs": [
        {
          "output_type": "stream",
          "name": "stdout",
          "text": [
            "Enter a number: 4\n",
            "factorial(4) called\n",
            "factorial(3) called\n",
            "factorial(2) called\n",
            "factorial(1) called\n",
            "Returning 1\n",
            "Returning 2 (from 2 * factorial(1))\n",
            "Returning 6 (from 3 * factorial(2))\n",
            "Returning 24 (from 4 * factorial(3))\n",
            "\n",
            "Final result: factorial(4) = 24\n"
          ]
        }
      ]
    }
  ],
  "metadata": {
    "colab": {
      "name": "Welcome to Colab",
      "toc_visible": true,
      "provenance": [],
      "include_colab_link": true
    },
    "kernelspec": {
      "display_name": "Python 3",
      "name": "python3"
    }
  },
  "nbformat": 4,
  "nbformat_minor": 0
}